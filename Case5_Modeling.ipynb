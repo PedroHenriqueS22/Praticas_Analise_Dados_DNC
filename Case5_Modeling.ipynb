{
  "nbformat": 4,
  "nbformat_minor": 0,
  "metadata": {
    "colab": {
      "provenance": [],
      "authorship_tag": "ABX9TyMr2BRp2o1huJ/CJi464MSZ",
      "include_colab_link": true
    },
    "kernelspec": {
      "name": "python3",
      "display_name": "Python 3"
    },
    "language_info": {
      "name": "python"
    }
  },
  "cells": [
    {
      "cell_type": "markdown",
      "metadata": {
        "id": "view-in-github",
        "colab_type": "text"
      },
      "source": [
        "<a href=\"https://colab.research.google.com/github/PedroHenriqueS22/Praticas_Analise_Dados_DNC/blob/main/Case5_Modeling.ipynb\" target=\"_parent\"><img src=\"https://colab.research.google.com/assets/colab-badge.svg\" alt=\"Open In Colab\"/></a>"
      ]
    },
    {
      "cell_type": "code",
      "source": [
        "from sklearn import datasets\n",
        "from sklearn.model_selection import train_test_split, GridSearchCV\n",
        "from sklearn.linear_model import LinearRegression\n",
        "from sklearn.metrics import mean_squared_error\n",
        "from sklearn.svm import SVR\n",
        "import pandas as pd\n",
        "import numpy as np\n",
        "from xgboost import XGBRegressor"
      ],
      "metadata": {
        "id": "6c1M7LNzAI5g"
      },
      "execution_count": 28,
      "outputs": []
    },
    {
      "cell_type": "code",
      "source": [
        "data_url = \"http://lib.stat.cmu.edu/datasets/boston\"\n",
        "housing = pd.read_csv(data_url, sep=\"\\s+\", skiprows=22, header=None)\n",
        "data = np.hstack([housing.values[::2, :], housing.values[1::2, :2]])\n",
        "target = housing.values[1::2, 2]\n",
        "\n",
        "columns_names = [\"CRIM\", \"ZN\", \"INDUS\", \"CHAS\", \"NOX\", \"RM\", \"AGE\", \"DIS\", \"RAD\", \"TAX\", \"PTRATIO\", \"B\", \"LSTAT\", \"MEDV\"]\n",
        "\n",
        "df = pd.DataFrame(data, columns=columns_names[:-1])"
      ],
      "metadata": {
        "id": "NQKC2FzoAJBg"
      },
      "execution_count": 2,
      "outputs": []
    },
    {
      "cell_type": "code",
      "source": [
        "df.head()"
      ],
      "metadata": {
        "colab": {
          "base_uri": "https://localhost:8080/",
          "height": 206
        },
        "id": "duETz86-nbDP",
        "outputId": "ac29687f-265e-4957-ac28-09d6ce9f81aa"
      },
      "execution_count": 3,
      "outputs": [
        {
          "output_type": "execute_result",
          "data": {
            "text/plain": [
              "      CRIM    ZN  INDUS  CHAS    NOX     RM   AGE     DIS  RAD    TAX  \\\n",
              "0  0.00632  18.0   2.31   0.0  0.538  6.575  65.2  4.0900  1.0  296.0   \n",
              "1  0.02731   0.0   7.07   0.0  0.469  6.421  78.9  4.9671  2.0  242.0   \n",
              "2  0.02729   0.0   7.07   0.0  0.469  7.185  61.1  4.9671  2.0  242.0   \n",
              "3  0.03237   0.0   2.18   0.0  0.458  6.998  45.8  6.0622  3.0  222.0   \n",
              "4  0.06905   0.0   2.18   0.0  0.458  7.147  54.2  6.0622  3.0  222.0   \n",
              "\n",
              "   PTRATIO       B  LSTAT  \n",
              "0     15.3  396.90   4.98  \n",
              "1     17.8  396.90   9.14  \n",
              "2     17.8  392.83   4.03  \n",
              "3     18.7  394.63   2.94  \n",
              "4     18.7  396.90   5.33  "
            ],
            "text/html": [
              "\n",
              "  <div id=\"df-d59dfd35-c3e1-45bc-9c3f-918481785d2e\" class=\"colab-df-container\">\n",
              "    <div>\n",
              "<style scoped>\n",
              "    .dataframe tbody tr th:only-of-type {\n",
              "        vertical-align: middle;\n",
              "    }\n",
              "\n",
              "    .dataframe tbody tr th {\n",
              "        vertical-align: top;\n",
              "    }\n",
              "\n",
              "    .dataframe thead th {\n",
              "        text-align: right;\n",
              "    }\n",
              "</style>\n",
              "<table border=\"1\" class=\"dataframe\">\n",
              "  <thead>\n",
              "    <tr style=\"text-align: right;\">\n",
              "      <th></th>\n",
              "      <th>CRIM</th>\n",
              "      <th>ZN</th>\n",
              "      <th>INDUS</th>\n",
              "      <th>CHAS</th>\n",
              "      <th>NOX</th>\n",
              "      <th>RM</th>\n",
              "      <th>AGE</th>\n",
              "      <th>DIS</th>\n",
              "      <th>RAD</th>\n",
              "      <th>TAX</th>\n",
              "      <th>PTRATIO</th>\n",
              "      <th>B</th>\n",
              "      <th>LSTAT</th>\n",
              "    </tr>\n",
              "  </thead>\n",
              "  <tbody>\n",
              "    <tr>\n",
              "      <th>0</th>\n",
              "      <td>0.00632</td>\n",
              "      <td>18.0</td>\n",
              "      <td>2.31</td>\n",
              "      <td>0.0</td>\n",
              "      <td>0.538</td>\n",
              "      <td>6.575</td>\n",
              "      <td>65.2</td>\n",
              "      <td>4.0900</td>\n",
              "      <td>1.0</td>\n",
              "      <td>296.0</td>\n",
              "      <td>15.3</td>\n",
              "      <td>396.90</td>\n",
              "      <td>4.98</td>\n",
              "    </tr>\n",
              "    <tr>\n",
              "      <th>1</th>\n",
              "      <td>0.02731</td>\n",
              "      <td>0.0</td>\n",
              "      <td>7.07</td>\n",
              "      <td>0.0</td>\n",
              "      <td>0.469</td>\n",
              "      <td>6.421</td>\n",
              "      <td>78.9</td>\n",
              "      <td>4.9671</td>\n",
              "      <td>2.0</td>\n",
              "      <td>242.0</td>\n",
              "      <td>17.8</td>\n",
              "      <td>396.90</td>\n",
              "      <td>9.14</td>\n",
              "    </tr>\n",
              "    <tr>\n",
              "      <th>2</th>\n",
              "      <td>0.02729</td>\n",
              "      <td>0.0</td>\n",
              "      <td>7.07</td>\n",
              "      <td>0.0</td>\n",
              "      <td>0.469</td>\n",
              "      <td>7.185</td>\n",
              "      <td>61.1</td>\n",
              "      <td>4.9671</td>\n",
              "      <td>2.0</td>\n",
              "      <td>242.0</td>\n",
              "      <td>17.8</td>\n",
              "      <td>392.83</td>\n",
              "      <td>4.03</td>\n",
              "    </tr>\n",
              "    <tr>\n",
              "      <th>3</th>\n",
              "      <td>0.03237</td>\n",
              "      <td>0.0</td>\n",
              "      <td>2.18</td>\n",
              "      <td>0.0</td>\n",
              "      <td>0.458</td>\n",
              "      <td>6.998</td>\n",
              "      <td>45.8</td>\n",
              "      <td>6.0622</td>\n",
              "      <td>3.0</td>\n",
              "      <td>222.0</td>\n",
              "      <td>18.7</td>\n",
              "      <td>394.63</td>\n",
              "      <td>2.94</td>\n",
              "    </tr>\n",
              "    <tr>\n",
              "      <th>4</th>\n",
              "      <td>0.06905</td>\n",
              "      <td>0.0</td>\n",
              "      <td>2.18</td>\n",
              "      <td>0.0</td>\n",
              "      <td>0.458</td>\n",
              "      <td>7.147</td>\n",
              "      <td>54.2</td>\n",
              "      <td>6.0622</td>\n",
              "      <td>3.0</td>\n",
              "      <td>222.0</td>\n",
              "      <td>18.7</td>\n",
              "      <td>396.90</td>\n",
              "      <td>5.33</td>\n",
              "    </tr>\n",
              "  </tbody>\n",
              "</table>\n",
              "</div>\n",
              "    <div class=\"colab-df-buttons\">\n",
              "\n",
              "  <div class=\"colab-df-container\">\n",
              "    <button class=\"colab-df-convert\" onclick=\"convertToInteractive('df-d59dfd35-c3e1-45bc-9c3f-918481785d2e')\"\n",
              "            title=\"Convert this dataframe to an interactive table.\"\n",
              "            style=\"display:none;\">\n",
              "\n",
              "  <svg xmlns=\"http://www.w3.org/2000/svg\" height=\"24px\" viewBox=\"0 -960 960 960\">\n",
              "    <path d=\"M120-120v-720h720v720H120Zm60-500h600v-160H180v160Zm220 220h160v-160H400v160Zm0 220h160v-160H400v160ZM180-400h160v-160H180v160Zm440 0h160v-160H620v160ZM180-180h160v-160H180v160Zm440 0h160v-160H620v160Z\"/>\n",
              "  </svg>\n",
              "    </button>\n",
              "\n",
              "  <style>\n",
              "    .colab-df-container {\n",
              "      display:flex;\n",
              "      gap: 12px;\n",
              "    }\n",
              "\n",
              "    .colab-df-convert {\n",
              "      background-color: #E8F0FE;\n",
              "      border: none;\n",
              "      border-radius: 50%;\n",
              "      cursor: pointer;\n",
              "      display: none;\n",
              "      fill: #1967D2;\n",
              "      height: 32px;\n",
              "      padding: 0 0 0 0;\n",
              "      width: 32px;\n",
              "    }\n",
              "\n",
              "    .colab-df-convert:hover {\n",
              "      background-color: #E2EBFA;\n",
              "      box-shadow: 0px 1px 2px rgba(60, 64, 67, 0.3), 0px 1px 3px 1px rgba(60, 64, 67, 0.15);\n",
              "      fill: #174EA6;\n",
              "    }\n",
              "\n",
              "    .colab-df-buttons div {\n",
              "      margin-bottom: 4px;\n",
              "    }\n",
              "\n",
              "    [theme=dark] .colab-df-convert {\n",
              "      background-color: #3B4455;\n",
              "      fill: #D2E3FC;\n",
              "    }\n",
              "\n",
              "    [theme=dark] .colab-df-convert:hover {\n",
              "      background-color: #434B5C;\n",
              "      box-shadow: 0px 1px 3px 1px rgba(0, 0, 0, 0.15);\n",
              "      filter: drop-shadow(0px 1px 2px rgba(0, 0, 0, 0.3));\n",
              "      fill: #FFFFFF;\n",
              "    }\n",
              "  </style>\n",
              "\n",
              "    <script>\n",
              "      const buttonEl =\n",
              "        document.querySelector('#df-d59dfd35-c3e1-45bc-9c3f-918481785d2e button.colab-df-convert');\n",
              "      buttonEl.style.display =\n",
              "        google.colab.kernel.accessAllowed ? 'block' : 'none';\n",
              "\n",
              "      async function convertToInteractive(key) {\n",
              "        const element = document.querySelector('#df-d59dfd35-c3e1-45bc-9c3f-918481785d2e');\n",
              "        const dataTable =\n",
              "          await google.colab.kernel.invokeFunction('convertToInteractive',\n",
              "                                                    [key], {});\n",
              "        if (!dataTable) return;\n",
              "\n",
              "        const docLinkHtml = 'Like what you see? Visit the ' +\n",
              "          '<a target=\"_blank\" href=https://colab.research.google.com/notebooks/data_table.ipynb>data table notebook</a>'\n",
              "          + ' to learn more about interactive tables.';\n",
              "        element.innerHTML = '';\n",
              "        dataTable['output_type'] = 'display_data';\n",
              "        await google.colab.output.renderOutput(dataTable, element);\n",
              "        const docLink = document.createElement('div');\n",
              "        docLink.innerHTML = docLinkHtml;\n",
              "        element.appendChild(docLink);\n",
              "      }\n",
              "    </script>\n",
              "  </div>\n",
              "\n",
              "\n",
              "<div id=\"df-8bff5d47-4392-491e-86d7-1997a1b74e8e\">\n",
              "  <button class=\"colab-df-quickchart\" onclick=\"quickchart('df-8bff5d47-4392-491e-86d7-1997a1b74e8e')\"\n",
              "            title=\"Suggest charts\"\n",
              "            style=\"display:none;\">\n",
              "\n",
              "<svg xmlns=\"http://www.w3.org/2000/svg\" height=\"24px\"viewBox=\"0 0 24 24\"\n",
              "     width=\"24px\">\n",
              "    <g>\n",
              "        <path d=\"M19 3H5c-1.1 0-2 .9-2 2v14c0 1.1.9 2 2 2h14c1.1 0 2-.9 2-2V5c0-1.1-.9-2-2-2zM9 17H7v-7h2v7zm4 0h-2V7h2v10zm4 0h-2v-4h2v4z\"/>\n",
              "    </g>\n",
              "</svg>\n",
              "  </button>\n",
              "\n",
              "<style>\n",
              "  .colab-df-quickchart {\n",
              "      --bg-color: #E8F0FE;\n",
              "      --fill-color: #1967D2;\n",
              "      --hover-bg-color: #E2EBFA;\n",
              "      --hover-fill-color: #174EA6;\n",
              "      --disabled-fill-color: #AAA;\n",
              "      --disabled-bg-color: #DDD;\n",
              "  }\n",
              "\n",
              "  [theme=dark] .colab-df-quickchart {\n",
              "      --bg-color: #3B4455;\n",
              "      --fill-color: #D2E3FC;\n",
              "      --hover-bg-color: #434B5C;\n",
              "      --hover-fill-color: #FFFFFF;\n",
              "      --disabled-bg-color: #3B4455;\n",
              "      --disabled-fill-color: #666;\n",
              "  }\n",
              "\n",
              "  .colab-df-quickchart {\n",
              "    background-color: var(--bg-color);\n",
              "    border: none;\n",
              "    border-radius: 50%;\n",
              "    cursor: pointer;\n",
              "    display: none;\n",
              "    fill: var(--fill-color);\n",
              "    height: 32px;\n",
              "    padding: 0;\n",
              "    width: 32px;\n",
              "  }\n",
              "\n",
              "  .colab-df-quickchart:hover {\n",
              "    background-color: var(--hover-bg-color);\n",
              "    box-shadow: 0 1px 2px rgba(60, 64, 67, 0.3), 0 1px 3px 1px rgba(60, 64, 67, 0.15);\n",
              "    fill: var(--button-hover-fill-color);\n",
              "  }\n",
              "\n",
              "  .colab-df-quickchart-complete:disabled,\n",
              "  .colab-df-quickchart-complete:disabled:hover {\n",
              "    background-color: var(--disabled-bg-color);\n",
              "    fill: var(--disabled-fill-color);\n",
              "    box-shadow: none;\n",
              "  }\n",
              "\n",
              "  .colab-df-spinner {\n",
              "    border: 2px solid var(--fill-color);\n",
              "    border-color: transparent;\n",
              "    border-bottom-color: var(--fill-color);\n",
              "    animation:\n",
              "      spin 1s steps(1) infinite;\n",
              "  }\n",
              "\n",
              "  @keyframes spin {\n",
              "    0% {\n",
              "      border-color: transparent;\n",
              "      border-bottom-color: var(--fill-color);\n",
              "      border-left-color: var(--fill-color);\n",
              "    }\n",
              "    20% {\n",
              "      border-color: transparent;\n",
              "      border-left-color: var(--fill-color);\n",
              "      border-top-color: var(--fill-color);\n",
              "    }\n",
              "    30% {\n",
              "      border-color: transparent;\n",
              "      border-left-color: var(--fill-color);\n",
              "      border-top-color: var(--fill-color);\n",
              "      border-right-color: var(--fill-color);\n",
              "    }\n",
              "    40% {\n",
              "      border-color: transparent;\n",
              "      border-right-color: var(--fill-color);\n",
              "      border-top-color: var(--fill-color);\n",
              "    }\n",
              "    60% {\n",
              "      border-color: transparent;\n",
              "      border-right-color: var(--fill-color);\n",
              "    }\n",
              "    80% {\n",
              "      border-color: transparent;\n",
              "      border-right-color: var(--fill-color);\n",
              "      border-bottom-color: var(--fill-color);\n",
              "    }\n",
              "    90% {\n",
              "      border-color: transparent;\n",
              "      border-bottom-color: var(--fill-color);\n",
              "    }\n",
              "  }\n",
              "</style>\n",
              "\n",
              "  <script>\n",
              "    async function quickchart(key) {\n",
              "      const quickchartButtonEl =\n",
              "        document.querySelector('#' + key + ' button');\n",
              "      quickchartButtonEl.disabled = true;  // To prevent multiple clicks.\n",
              "      quickchartButtonEl.classList.add('colab-df-spinner');\n",
              "      try {\n",
              "        const charts = await google.colab.kernel.invokeFunction(\n",
              "            'suggestCharts', [key], {});\n",
              "      } catch (error) {\n",
              "        console.error('Error during call to suggestCharts:', error);\n",
              "      }\n",
              "      quickchartButtonEl.classList.remove('colab-df-spinner');\n",
              "      quickchartButtonEl.classList.add('colab-df-quickchart-complete');\n",
              "    }\n",
              "    (() => {\n",
              "      let quickchartButtonEl =\n",
              "        document.querySelector('#df-8bff5d47-4392-491e-86d7-1997a1b74e8e button');\n",
              "      quickchartButtonEl.style.display =\n",
              "        google.colab.kernel.accessAllowed ? 'block' : 'none';\n",
              "    })();\n",
              "  </script>\n",
              "</div>\n",
              "\n",
              "    </div>\n",
              "  </div>\n"
            ],
            "application/vnd.google.colaboratory.intrinsic+json": {
              "type": "dataframe",
              "variable_name": "df",
              "summary": "{\n  \"name\": \"df\",\n  \"rows\": 506,\n  \"fields\": [\n    {\n      \"column\": \"CRIM\",\n      \"properties\": {\n        \"dtype\": \"number\",\n        \"std\": 8.60154510533249,\n        \"min\": 0.00632,\n        \"max\": 88.9762,\n        \"num_unique_values\": 504,\n        \"samples\": [\n          0.09178,\n          0.05644,\n          0.10574\n        ],\n        \"semantic_type\": \"\",\n        \"description\": \"\"\n      }\n    },\n    {\n      \"column\": \"ZN\",\n      \"properties\": {\n        \"dtype\": \"number\",\n        \"std\": 23.32245299451514,\n        \"min\": 0.0,\n        \"max\": 100.0,\n        \"num_unique_values\": 26,\n        \"samples\": [\n          25.0,\n          30.0,\n          18.0\n        ],\n        \"semantic_type\": \"\",\n        \"description\": \"\"\n      }\n    },\n    {\n      \"column\": \"INDUS\",\n      \"properties\": {\n        \"dtype\": \"number\",\n        \"std\": 6.860352940897585,\n        \"min\": 0.46,\n        \"max\": 27.74,\n        \"num_unique_values\": 76,\n        \"samples\": [\n          8.14,\n          1.47,\n          1.22\n        ],\n        \"semantic_type\": \"\",\n        \"description\": \"\"\n      }\n    },\n    {\n      \"column\": \"CHAS\",\n      \"properties\": {\n        \"dtype\": \"number\",\n        \"std\": 0.25399404134041037,\n        \"min\": 0.0,\n        \"max\": 1.0,\n        \"num_unique_values\": 2,\n        \"samples\": [\n          1.0,\n          0.0\n        ],\n        \"semantic_type\": \"\",\n        \"description\": \"\"\n      }\n    },\n    {\n      \"column\": \"NOX\",\n      \"properties\": {\n        \"dtype\": \"number\",\n        \"std\": 0.11587767566755595,\n        \"min\": 0.385,\n        \"max\": 0.871,\n        \"num_unique_values\": 81,\n        \"samples\": [\n          0.401,\n          0.538\n        ],\n        \"semantic_type\": \"\",\n        \"description\": \"\"\n      }\n    },\n    {\n      \"column\": \"RM\",\n      \"properties\": {\n        \"dtype\": \"number\",\n        \"std\": 0.7026171434153233,\n        \"min\": 3.561,\n        \"max\": 8.78,\n        \"num_unique_values\": 446,\n        \"samples\": [\n          6.849,\n          4.88\n        ],\n        \"semantic_type\": \"\",\n        \"description\": \"\"\n      }\n    },\n    {\n      \"column\": \"AGE\",\n      \"properties\": {\n        \"dtype\": \"number\",\n        \"std\": 28.148861406903617,\n        \"min\": 2.9,\n        \"max\": 100.0,\n        \"num_unique_values\": 356,\n        \"samples\": [\n          51.8,\n          33.8\n        ],\n        \"semantic_type\": \"\",\n        \"description\": \"\"\n      }\n    },\n    {\n      \"column\": \"DIS\",\n      \"properties\": {\n        \"dtype\": \"number\",\n        \"std\": 2.105710126627611,\n        \"min\": 1.1296,\n        \"max\": 12.1265,\n        \"num_unique_values\": 412,\n        \"samples\": [\n          2.2955,\n          4.2515\n        ],\n        \"semantic_type\": \"\",\n        \"description\": \"\"\n      }\n    },\n    {\n      \"column\": \"RAD\",\n      \"properties\": {\n        \"dtype\": \"number\",\n        \"std\": 8.707259384239366,\n        \"min\": 1.0,\n        \"max\": 24.0,\n        \"num_unique_values\": 9,\n        \"samples\": [\n          7.0,\n          2.0\n        ],\n        \"semantic_type\": \"\",\n        \"description\": \"\"\n      }\n    },\n    {\n      \"column\": \"TAX\",\n      \"properties\": {\n        \"dtype\": \"number\",\n        \"std\": 168.53711605495903,\n        \"min\": 187.0,\n        \"max\": 711.0,\n        \"num_unique_values\": 66,\n        \"samples\": [\n          370.0,\n          666.0\n        ],\n        \"semantic_type\": \"\",\n        \"description\": \"\"\n      }\n    },\n    {\n      \"column\": \"PTRATIO\",\n      \"properties\": {\n        \"dtype\": \"number\",\n        \"std\": 2.1649455237144406,\n        \"min\": 12.6,\n        \"max\": 22.0,\n        \"num_unique_values\": 46,\n        \"samples\": [\n          19.6,\n          15.6\n        ],\n        \"semantic_type\": \"\",\n        \"description\": \"\"\n      }\n    },\n    {\n      \"column\": \"B\",\n      \"properties\": {\n        \"dtype\": \"number\",\n        \"std\": 91.29486438415783,\n        \"min\": 0.32,\n        \"max\": 396.9,\n        \"num_unique_values\": 357,\n        \"samples\": [\n          396.24,\n          395.11\n        ],\n        \"semantic_type\": \"\",\n        \"description\": \"\"\n      }\n    },\n    {\n      \"column\": \"LSTAT\",\n      \"properties\": {\n        \"dtype\": \"number\",\n        \"std\": 7.141061511348571,\n        \"min\": 1.73,\n        \"max\": 37.97,\n        \"num_unique_values\": 455,\n        \"samples\": [\n          6.15,\n          4.32\n        ],\n        \"semantic_type\": \"\",\n        \"description\": \"\"\n      }\n    }\n  ]\n}"
            }
          },
          "metadata": {},
          "execution_count": 3
        }
      ]
    },
    {
      "cell_type": "code",
      "source": [
        "print(target)"
      ],
      "metadata": {
        "colab": {
          "base_uri": "https://localhost:8080/"
        },
        "id": "vzMst_DIEx7x",
        "outputId": "4319e377-cc7b-439e-bf6a-9b308bdbd9b1"
      },
      "execution_count": 4,
      "outputs": [
        {
          "output_type": "stream",
          "name": "stdout",
          "text": [
            "[24.  21.6 34.7 33.4 36.2 28.7 22.9 27.1 16.5 18.9 15.  18.9 21.7 20.4\n",
            " 18.2 19.9 23.1 17.5 20.2 18.2 13.6 19.6 15.2 14.5 15.6 13.9 16.6 14.8\n",
            " 18.4 21.  12.7 14.5 13.2 13.1 13.5 18.9 20.  21.  24.7 30.8 34.9 26.6\n",
            " 25.3 24.7 21.2 19.3 20.  16.6 14.4 19.4 19.7 20.5 25.  23.4 18.9 35.4\n",
            " 24.7 31.6 23.3 19.6 18.7 16.  22.2 25.  33.  23.5 19.4 22.  17.4 20.9\n",
            " 24.2 21.7 22.8 23.4 24.1 21.4 20.  20.8 21.2 20.3 28.  23.9 24.8 22.9\n",
            " 23.9 26.6 22.5 22.2 23.6 28.7 22.6 22.  22.9 25.  20.6 28.4 21.4 38.7\n",
            " 43.8 33.2 27.5 26.5 18.6 19.3 20.1 19.5 19.5 20.4 19.8 19.4 21.7 22.8\n",
            " 18.8 18.7 18.5 18.3 21.2 19.2 20.4 19.3 22.  20.3 20.5 17.3 18.8 21.4\n",
            " 15.7 16.2 18.  14.3 19.2 19.6 23.  18.4 15.6 18.1 17.4 17.1 13.3 17.8\n",
            " 14.  14.4 13.4 15.6 11.8 13.8 15.6 14.6 17.8 15.4 21.5 19.6 15.3 19.4\n",
            " 17.  15.6 13.1 41.3 24.3 23.3 27.  50.  50.  50.  22.7 25.  50.  23.8\n",
            " 23.8 22.3 17.4 19.1 23.1 23.6 22.6 29.4 23.2 24.6 29.9 37.2 39.8 36.2\n",
            " 37.9 32.5 26.4 29.6 50.  32.  29.8 34.9 37.  30.5 36.4 31.1 29.1 50.\n",
            " 33.3 30.3 34.6 34.9 32.9 24.1 42.3 48.5 50.  22.6 24.4 22.5 24.4 20.\n",
            " 21.7 19.3 22.4 28.1 23.7 25.  23.3 28.7 21.5 23.  26.7 21.7 27.5 30.1\n",
            " 44.8 50.  37.6 31.6 46.7 31.5 24.3 31.7 41.7 48.3 29.  24.  25.1 31.5\n",
            " 23.7 23.3 22.  20.1 22.2 23.7 17.6 18.5 24.3 20.5 24.5 26.2 24.4 24.8\n",
            " 29.6 42.8 21.9 20.9 44.  50.  36.  30.1 33.8 43.1 48.8 31.  36.5 22.8\n",
            " 30.7 50.  43.5 20.7 21.1 25.2 24.4 35.2 32.4 32.  33.2 33.1 29.1 35.1\n",
            " 45.4 35.4 46.  50.  32.2 22.  20.1 23.2 22.3 24.8 28.5 37.3 27.9 23.9\n",
            " 21.7 28.6 27.1 20.3 22.5 29.  24.8 22.  26.4 33.1 36.1 28.4 33.4 28.2\n",
            " 22.8 20.3 16.1 22.1 19.4 21.6 23.8 16.2 17.8 19.8 23.1 21.  23.8 23.1\n",
            " 20.4 18.5 25.  24.6 23.  22.2 19.3 22.6 19.8 17.1 19.4 22.2 20.7 21.1\n",
            " 19.5 18.5 20.6 19.  18.7 32.7 16.5 23.9 31.2 17.5 17.2 23.1 24.5 26.6\n",
            " 22.9 24.1 18.6 30.1 18.2 20.6 17.8 21.7 22.7 22.6 25.  19.9 20.8 16.8\n",
            " 21.9 27.5 21.9 23.1 50.  50.  50.  50.  50.  13.8 13.8 15.  13.9 13.3\n",
            " 13.1 10.2 10.4 10.9 11.3 12.3  8.8  7.2 10.5  7.4 10.2 11.5 15.1 23.2\n",
            "  9.7 13.8 12.7 13.1 12.5  8.5  5.   6.3  5.6  7.2 12.1  8.3  8.5  5.\n",
            " 11.9 27.9 17.2 27.5 15.  17.2 17.9 16.3  7.   7.2  7.5 10.4  8.8  8.4\n",
            " 16.7 14.2 20.8 13.4 11.7  8.3 10.2 10.9 11.   9.5 14.5 14.1 16.1 14.3\n",
            " 11.7 13.4  9.6  8.7  8.4 12.8 10.5 17.1 18.4 15.4 10.8 11.8 14.9 12.6\n",
            " 14.1 13.  13.4 15.2 16.1 17.8 14.9 14.1 12.7 13.5 14.9 20.  16.4 17.7\n",
            " 19.5 20.2 21.4 19.9 19.  19.1 19.1 20.1 19.9 19.6 23.2 29.8 13.8 13.3\n",
            " 16.7 12.  14.6 21.4 23.  23.7 25.  21.8 20.6 21.2 19.1 20.6 15.2  7.\n",
            "  8.1 13.6 20.1 21.8 24.5 23.1 19.7 18.3 21.2 17.5 16.8 22.4 20.6 23.9\n",
            " 22.  11.9]\n"
          ]
        }
      ]
    },
    {
      "cell_type": "code",
      "source": [
        "# Características das casas\n",
        "X = data\n",
        "\n",
        "# Preço conhecido das casas\n",
        "y = target"
      ],
      "metadata": {
        "id": "A6485tOSF72_"
      },
      "execution_count": 5,
      "outputs": []
    },
    {
      "cell_type": "markdown",
      "source": [
        "#Modeling Techniques\n",
        "\n",
        "\n",
        "\n",
        "1.   [Regressão Linear do Sklearn](https://scikit-learn.org/stable/modules/generated/sklearn.linear_model.LinearRegression.html#sklearn.linear_model.LinearRegression)\n",
        "2.   [Support Vector Regression do Sklearn](https://scikit-learn.org/stable/modules/generated/sklearn.svm.SVR.html#sklearn.svm.SVR)\n",
        "3. [Decision Tree Regression do XGBoost](https://xgboost.readthedocs.io/en/stable/python/python_api.html)\n",
        "\n",
        "Modeling Assumptions:\n",
        "\n",
        "*   Apenas variáveis numéricas\n",
        "\n",
        "\n",
        "\n",
        "\n"
      ],
      "metadata": {
        "id": "VQgQe9amHHI5"
      }
    },
    {
      "cell_type": "markdown",
      "source": [
        "# Test Desing\n",
        "\n",
        "## Dataset split:\n",
        "\n",
        "*   Separação de Train/Test dataset padrão com 20% de massa para teste via método Sklearn.\n",
        "\n",
        "## Métrica de avaliação do modelo:\n",
        "\n",
        "*   Validação da métrica Mean Squared Error (MSE) e Root Mean Square Error (RMSE) para penalizar grandes erros de previsão, utilizando o [método do Sklearn](https://scikit-learn.org/stable/modules/generated/sklearn.metrics.mean_squared_error.html#sklearn.metrics.mean_squared_error).\n",
        "\n"
      ],
      "metadata": {
        "id": "iNQE53enQOPj"
      }
    },
    {
      "cell_type": "code",
      "source": [
        "X_train, X_test, y_train, y_test = train_test_split(X, y, test_size=0.2, random_state=42)"
      ],
      "metadata": {
        "id": "3I7upaqyGR0_"
      },
      "execution_count": 6,
      "outputs": []
    },
    {
      "cell_type": "code",
      "source": [
        "print(X_train)"
      ],
      "metadata": {
        "colab": {
          "base_uri": "https://localhost:8080/"
        },
        "id": "AR83NbmGRP_f",
        "outputId": "8b5ecec3-b2de-4da6-fac2-4a41b78b0003"
      },
      "execution_count": 7,
      "outputs": [
        {
          "output_type": "stream",
          "name": "stdout",
          "text": [
            "[[1.50234e+01 0.00000e+00 1.81000e+01 ... 2.02000e+01 3.49480e+02\n",
            "  2.49100e+01]\n",
            " [6.27390e-01 0.00000e+00 8.14000e+00 ... 2.10000e+01 3.95620e+02\n",
            "  8.47000e+00]\n",
            " [3.46600e-02 3.50000e+01 6.06000e+00 ... 1.69000e+01 3.62250e+02\n",
            "  7.83000e+00]\n",
            " ...\n",
            " [1.50100e-02 8.00000e+01 2.01000e+00 ... 1.70000e+01 3.90940e+02\n",
            "  5.99000e+00]\n",
            " [1.11604e+01 0.00000e+00 1.81000e+01 ... 2.02000e+01 1.09850e+02\n",
            "  2.32700e+01]\n",
            " [2.28760e-01 0.00000e+00 8.56000e+00 ... 2.09000e+01 7.08000e+01\n",
            "  1.06300e+01]]\n"
          ]
        }
      ]
    },
    {
      "cell_type": "code",
      "source": [
        "print(y_train)"
      ],
      "metadata": {
        "colab": {
          "base_uri": "https://localhost:8080/"
        },
        "id": "iquH8XlhGSWf",
        "outputId": "1447707a-6877-4938-f23b-087506c3ac53"
      },
      "execution_count": 8,
      "outputs": [
        {
          "output_type": "stream",
          "name": "stdout",
          "text": [
            "[12.  19.9 19.4 13.4 18.2 24.6 21.1 24.7  8.7 27.5 20.7 36.2 31.6 11.7\n",
            " 39.8 13.9 21.8 23.7 17.6 24.4  8.8 19.2 25.3 20.4 23.1 37.9 15.6 45.4\n",
            " 15.7 22.6 14.5 18.7 17.8 16.1 20.6 31.6 29.1 15.6 17.5 22.5 19.4 19.3\n",
            "  8.5 20.6 17.  17.1 14.5 50.  14.3 12.6 28.7 21.2 19.3 23.1 19.1 25.\n",
            " 33.4  5.  29.6 18.7 21.7 23.1 22.8 21.  48.8 14.6 16.6 27.1 20.1 19.8\n",
            " 21.  41.3 23.2 20.4 18.5 29.4 36.4 24.4 11.8 13.8 12.3 17.8 33.1 26.7\n",
            " 13.4 14.4 50.  22.  19.9 23.8 17.5 12.7  5.6 31.1 26.2 19.4 16.7 13.8\n",
            " 22.9 15.3 27.5 36.1 22.9 24.5 25.  50.  34.9 31.7 24.1 22.1 14.1 42.8\n",
            " 19.3 32.2 26.4 21.8 21.7  8.3 46.7 43.1 31.5 10.5 16.7 20.  33.3 17.8\n",
            " 50.  20.5 23.2 13.1 19.6 22.8 28.7 30.7 22.9 21.9 23.9 32.7 24.3 21.5\n",
            " 24.6  8.5 26.4 23.1 15.   8.8 19.3 23.9 24.7 19.8 23.8 13.3 29.  27.1\n",
            " 34.6 13.3 15.6 12.5 14.6 11.  24.8 17.3  8.1 21.4 15.6 23.3 32.  38.7\n",
            " 30.1 20.5 32.5 42.3 24.3 20.6 22.  18.2 15.   6.3 20.1 21.4 28.4 30.1\n",
            " 20.8 23.  14.3 11.7 37.3 17.1 10.4 23.  22.7 20.3 21.7 50.   8.4 18.8\n",
            " 37.2 16.1 16.5 22.2 20.6 13.5 48.3 23.8 22.7 17.4 30.3 36.  41.7 18.3\n",
            " 22.  18.6 44.8 11.9 18.7 16.2 22.   7.2 20.4 13.8 13.  18.4 23.1 21.2\n",
            " 23.1 23.5 50.  26.6 22.2 50.   8.3 23.3 21.7 18.9 18.4 17.4 13.4 12.1\n",
            " 26.6 21.7 28.4 20.5 22.  13.9 11.3 29.9 26.6 10.5 23.2 24.4 46.  21.9\n",
            "  7.5 36.2 44.  17.8 27.5 37.6 14.1 28.1 10.2 19.1 43.8 27.9 25.  16.\n",
            " 16.6 13.2 50.  22.2 32.9 15.2 14.8 13.8 24.3 33.8 22.3 50.   9.5 13.3\n",
            " 22.2 18.1 18.  25.  16.5 23.  20.1 33.  24.8 18.2 13.1 34.9 10.2 19.9\n",
            " 27.9 23.3 35.1 12.8 22.  18.5 25.1 22.5 22.4 28.6 19.5 24.8 24.5 21.4\n",
            " 33.1 22.9 20.7 24.1 50.  24.7 28.7  7.2 37.  20.3 30.1 19.5 23.4 11.5\n",
            " 21.6 14.9 15.2 19.4  8.4 28.  22.6 13.5 14.5 31.  10.9 21.9 22.  19.\n",
            " 21.4 25.  17.5 36.5 20.1 20.4 16.2 23.6  7.4 35.2 50.  19.3 21.2 15.6\n",
            " 33.4 19.1 21.  23.7 18.9 16.8 19.7 17.7 22.6 11.8 34.9 20.6 20.2 32.\n",
            " 22.3 23.3 14.4 31.2 24.  29.6 19.6 21.6 20.  27.  33.2 15.4 30.5  7.2\n",
            " 23.9 16.3 23.9 50.  22.8 15.4 19.2 19.6 22.6 33.2 50.  22.2 14.9 19.8\n",
            " 23.7 19.  20.3 11.9 13.6 29.8 21.7 19.5 21.1 24.5 13.4 18.6]\n"
          ]
        }
      ]
    },
    {
      "cell_type": "markdown",
      "source": [
        "# 1. Regressão Linear"
      ],
      "metadata": {
        "id": "sQoRNVzeqshB"
      }
    },
    {
      "cell_type": "code",
      "source": [
        "RegLinear = LinearRegression().fit(X_train,y_train) # Criando variável com o modelo de regressão linear e passando a massa de treino para o modelo"
      ],
      "metadata": {
        "id": "5vbi9F-5GS-N"
      },
      "execution_count": 9,
      "outputs": []
    },
    {
      "cell_type": "code",
      "source": [
        "yPredLinear = RegLinear.predict(X_test) # Fazendo a predição com a massa de teste"
      ],
      "metadata": {
        "id": "zgFFGP7XSXxq"
      },
      "execution_count": 10,
      "outputs": []
    },
    {
      "cell_type": "code",
      "source": [
        "print(yPredLinear)"
      ],
      "metadata": {
        "colab": {
          "base_uri": "https://localhost:8080/"
        },
        "id": "IV76o6slSYFs",
        "outputId": "05c53a5f-d0bb-4c41-a76f-9b37f18151cd"
      },
      "execution_count": 11,
      "outputs": [
        {
          "output_type": "stream",
          "name": "stdout",
          "text": [
            "[28.99672362 36.02556534 14.81694405 25.03197915 18.76987992 23.25442929\n",
            " 17.66253818 14.34119    23.01320703 20.63245597 24.90850512 18.63883645\n",
            " -6.08842184 21.75834668 19.23922576 26.19319733 20.64773313  5.79472718\n",
            " 40.50033966 17.61289074 27.24909479 30.06625441 11.34179277 24.16077616\n",
            " 17.86058499 15.83609765 22.78148106 14.57704449 22.43626052 19.19631835\n",
            " 22.43383455 25.21979081 25.93909562 17.70162434 16.76911711 16.95125411\n",
            " 31.23340153 20.13246729 23.76579011 24.6322925  13.94204955 32.25576301\n",
            " 42.67251161 17.32745046 27.27618614 16.99310991 14.07009109 25.90341861\n",
            " 20.29485982 29.95339638 21.28860173 34.34451856 16.04739105 26.22562412\n",
            " 39.53939798 22.57950697 18.84531367 32.72531661 25.0673037  12.88628956\n",
            " 22.68221908 30.48287757 31.52626806 15.90148607 20.22094826 16.71089812\n",
            " 20.52384893 25.96356264 30.61607978 11.59783023 20.51232627 27.48111878\n",
            " 11.01962332 15.68096344 23.79316251  6.19929359 21.6039073  41.41377225\n",
            " 18.76548695  8.87931901 20.83076916 13.25620627 20.73963699  9.36482222\n",
            " 23.22444271 31.9155003  19.10228271 25.51579303 29.04256769 20.14358566\n",
            " 25.5859787   5.70159447 20.09474756 14.95069156 12.50395648 20.72635294\n",
            " 24.73957161 -0.164237   13.68486682 16.18359697 22.27621999 24.47902364]\n"
          ]
        }
      ]
    },
    {
      "cell_type": "code",
      "source": [
        "MSE_RL = mean_squared_error(y_test, yPredLinear)  # MSE com y_test, pois foi utilizado o X_teste para fazer a predição, e o valor predito\n",
        "print(f'MSE R. LINEAR: {MSE_RL*1000:f}')\n",
        "RMSE_RL = np.sqrt(MSE_RL)\n",
        "print(f'RMSE R. LINEAR: {RMSE_RL*1000:f}') # Cálculo do RMSE indicando que os erros dos preços foram em média de 4.928"
      ],
      "metadata": {
        "colab": {
          "base_uri": "https://localhost:8080/"
        },
        "id": "GLp6ufhySYR0",
        "outputId": "1c12ff46-4f5c-41d8-edb4-146b1dcfc7a5"
      },
      "execution_count": 16,
      "outputs": [
        {
          "output_type": "stream",
          "name": "stdout",
          "text": [
            "MSE R. LINEAR: 24291.119475\n",
            "RMSE R. LINEAR: 4928.602183\n"
          ]
        }
      ]
    },
    {
      "cell_type": "markdown",
      "source": [
        "# 2. Support Vector Regression (SVR)"
      ],
      "metadata": {
        "id": "yMfi62SZq5Wh"
      }
    },
    {
      "cell_type": "code",
      "source": [
        "RegSVR = SVR().fit(X_train,y_train) # Criando variável com o modelo de SVR e passando a massa de treino para o modelo"
      ],
      "metadata": {
        "id": "HVieEqsFoJ2m"
      },
      "execution_count": 13,
      "outputs": []
    },
    {
      "cell_type": "code",
      "source": [
        "yPredSVR = RegSVR.predict(X_test) # Fazendo a predição com a massa de teste"
      ],
      "metadata": {
        "id": "0GoULX-QH9xw"
      },
      "execution_count": 14,
      "outputs": []
    },
    {
      "cell_type": "code",
      "source": [
        "print(yPredSVR)"
      ],
      "metadata": {
        "colab": {
          "base_uri": "https://localhost:8080/"
        },
        "id": "WP7HHFu5IPcI",
        "outputId": "64d0589c-7a0b-413d-dc3a-ecea399ebe51"
      },
      "execution_count": 15,
      "outputs": [
        {
          "output_type": "stream",
          "name": "stdout",
          "text": [
            "[22.5061509  24.44637611 15.48342923 23.47861138 15.85575665 20.41359379\n",
            " 22.22729603 19.30750829 16.00684204 20.69013802 22.5948442  22.17932651\n",
            " 13.22283187 20.88634606 22.74343046 16.11962825 23.6578174  15.50113391\n",
            " 24.80649803 15.86119502 24.85903189 24.42774747 21.65632951 23.06890895\n",
            " 15.18170664 15.47518332 21.28809591 13.27760452 22.58811671 20.84375287\n",
            " 22.39598564 23.17949952 15.87553566 15.81646768 15.26751873 18.53736675\n",
            " 23.75510385 24.20893309 23.03137207 23.35824097 20.74014355 24.26097498\n",
            " 25.29050354 22.45914878 23.21111935 15.87406945 21.6649305  23.42123755\n",
            " 16.08170391 23.06164042 22.35542867 24.67123285 22.08392839 21.02076269\n",
            " 23.7698124  16.48115196 15.85681759 24.99519292 23.87040225 22.19275612\n",
            " 23.61440768 25.38561307 23.18766117 21.82639671 21.46613519 22.43757636\n",
            " 15.82206507 23.86467246 24.9310726  13.3354447  24.23171731 16.22743397\n",
            " 14.35580648 23.47121935 21.03977262 15.66672407 20.63701249 25.28324943\n",
            " 15.81293928 15.0221233  22.55700153 15.01570683 23.9667558  15.81774318\n",
            " 22.21717976 22.25414813 14.64314526 23.37372785 24.08220483 19.37699063\n",
            " 23.06367649 13.58347444 19.43566908 21.6322458  15.68851353 19.33195473\n",
            " 15.61256571 13.1513996  13.29101828 13.23316724 23.87811317 21.02772523]\n"
          ]
        }
      ]
    },
    {
      "cell_type": "code",
      "source": [
        "MSE_SVR = mean_squared_error(y_test, yPredSVR)  # MSE com y_test, pois foi utilizado o X_teste para fazer a predição, e o valor predito\n",
        "print(f'MSE SVR: {MSE_SVR*1000:f}')\n",
        "RMSE_SVR = np.sqrt(MSE_SVR)\n",
        "print(f'RMSE SVR: {RMSE_SVR*1000:f}') # Cálculo do RMSE indicando que os erros dos preços foram em média de 7.269"
      ],
      "metadata": {
        "colab": {
          "base_uri": "https://localhost:8080/"
        },
        "id": "PTmt_dM_Isnj",
        "outputId": "f7248b93-2f20-48c4-b3d2-1041ddee4384"
      },
      "execution_count": 17,
      "outputs": [
        {
          "output_type": "stream",
          "name": "stdout",
          "text": [
            "MSE SVR: 52838.365768\n",
            "RMSE SVR: 7269.000328\n"
          ]
        }
      ]
    },
    {
      "cell_type": "markdown",
      "source": [
        "# 3. Decision Tree Regression (XGBoost)"
      ],
      "metadata": {
        "id": "GWKgpoZ3JvTz"
      }
    },
    {
      "cell_type": "code",
      "source": [
        "RegXGB = XGBRegressor().fit(X_train,y_train) # Criando variável com o modelo de Decision Tree Regression e passando a massa de treino para o modelo"
      ],
      "metadata": {
        "id": "ApvFSw2SJ4-W"
      },
      "execution_count": 20,
      "outputs": []
    },
    {
      "cell_type": "code",
      "source": [
        "yPredXGB = RegXGB.predict(X_test) # Fazendo a predição com a massa de teste"
      ],
      "metadata": {
        "id": "_MZMJ807Kz1d"
      },
      "execution_count": 21,
      "outputs": []
    },
    {
      "cell_type": "code",
      "source": [
        "print(yPredXGB)"
      ],
      "metadata": {
        "colab": {
          "base_uri": "https://localhost:8080/"
        },
        "id": "cnx_lxP9K_IM",
        "outputId": "c9755274-882c-4c24-9122-6c72784ab15c"
      },
      "execution_count": 22,
      "outputs": [
        {
          "output_type": "stream",
          "name": "stdout",
          "text": [
            "[24.276764  30.46075   17.959005  22.965069  17.133715  22.163433\n",
            " 18.669397  15.236069  21.046127  20.459925  22.439089  18.89959\n",
            " 11.203732  21.811333  18.655327  26.25912   21.139784   9.210471\n",
            " 47.378334  15.913627  25.087412  26.079153  13.452615  21.082066\n",
            " 15.193554  15.992098  20.690847  13.094459  21.131876  21.168287\n",
            " 18.848736  23.033901  14.877705  21.35931   15.263533  14.96528\n",
            " 33.754707  19.01804   22.69863   24.285683  19.455326  27.735622\n",
            " 47.043087  19.217285  21.663893  14.770664  13.908811  23.762539\n",
            " 17.538256  25.872328  22.392021  35.081337  17.318087  27.144457\n",
            " 45.176407  21.917618  16.05219   30.757784  22.377308  19.42954\n",
            " 25.34448   34.943123  30.451046  17.93282   25.573687  17.035986\n",
            " 14.910609  22.595358  27.416218  14.8786125 20.446955  30.664629\n",
            "  9.616146  21.455444  22.940966   6.722242  19.879969  46.798008\n",
            "  9.669527  13.117878  21.28643   11.787285  21.489807   8.746218\n",
            " 19.149298  27.94858   15.95009   23.537941  23.592808  18.32834\n",
            " 22.520878   8.653     19.500591  18.919949  21.414     19.623476\n",
            " 37.574116  11.571929  13.430772  13.622202  20.457579  23.422758 ]\n"
          ]
        }
      ]
    },
    {
      "cell_type": "code",
      "source": [
        "MSE_XGB = mean_squared_error(y_test, yPredXGB)  # MSE com y_test, pois foi utilizado o X_teste para fazer a predição, e o valor predito\n",
        "print(f'MSE XGB: {MSE_XGB*1000:f}')\n",
        "RMSE_XGB = np.sqrt(MSE_XGB)\n",
        "print(f'RMSE XGB: {RMSE_XGB*1000:f}') # Cálculo do RMSE indicando que os erros dos preços foram em média de 2.628"
      ],
      "metadata": {
        "colab": {
          "base_uri": "https://localhost:8080/"
        },
        "id": "9If2wGi3LVIX",
        "outputId": "a0aa3b7a-8e9e-4ef1-9da9-5d2d663436cf"
      },
      "execution_count": 24,
      "outputs": [
        {
          "output_type": "stream",
          "name": "stdout",
          "text": [
            "MSE XGB: 6909.231565\n",
            "RMSE XGB: 2628.541718\n"
          ]
        }
      ]
    },
    {
      "cell_type": "markdown",
      "source": [
        "# Resultado\n",
        "\n",
        "\n",
        "\n",
        "*   O modelo de Decision Tree Regression foi o que obteve o melhor resultado, como pode-se comprovar com o MSE e RMSE, o qual quanto menor o valor mais acertivo é o modelo"
      ],
      "metadata": {
        "id": "8RLW_ji7MpgP"
      }
    },
    {
      "cell_type": "code",
      "source": [
        "MSE_RL = mean_squared_error(y_test, yPredLinear)  # MSE com y_test, pois foi utilizado o X_teste para fazer a predição, e o valor predito\n",
        "print(f'MSE R. LINEAR: {MSE_RL*1000:f}')\n",
        "RMSE_RL = np.sqrt(MSE_RL)\n",
        "print(f'RMSE R. LINEAR: {RMSE_RL*1000:f}') # Cálculo do RMSE indicando que os erros dos preços foram em média de 4.928\n",
        "\n",
        "print('')\n",
        "\n",
        "MSE_SVR = mean_squared_error(y_test, yPredSVR)  # MSE com y_test, pois foi utilizado o X_teste para fazer a predição, e o valor predito\n",
        "print(f'MSE SVR: {MSE_SVR*1000:f}')\n",
        "RMSE_SVR = np.sqrt(MSE_SVR)\n",
        "print(f'RMSE SVR: {RMSE_SVR*1000:f}') # Cálculo do RMSE indicando que os erros dos preços foram em média de 7.269\n",
        "\n",
        "print('')\n",
        "\n",
        "MSE_XGB = mean_squared_error(y_test, yPredXGB)  # MSE com y_test, pois foi utilizado o X_teste para fazer a predição, e o valor predito\n",
        "print(f'MSE XGB: {MSE_XGB*1000:f}')\n",
        "RMSE_XGB = np.sqrt(MSE_XGB)\n",
        "print(f'RMSE XGB: {RMSE_XGB*1000:f}') # Cálculo do RMSE indicando que os erros dos preços foram em média de 2.628"
      ],
      "metadata": {
        "colab": {
          "base_uri": "https://localhost:8080/"
        },
        "id": "EsxoDIO-Mp88",
        "outputId": "e1969030-7047-443b-d1bc-cb0dfabe78e0"
      },
      "execution_count": 25,
      "outputs": [
        {
          "output_type": "stream",
          "name": "stdout",
          "text": [
            "MSE R. LINEAR: 24291.119475\n",
            "RMSE R. LINEAR: 4928.602183\n",
            "\n",
            "MSE SVR: 52838.365768\n",
            "RMSE SVR: 7269.000328\n",
            "\n",
            "MSE XGB: 6909.231565\n",
            "RMSE XGB: 2628.541718\n"
          ]
        }
      ]
    },
    {
      "cell_type": "markdown",
      "source": [
        "# Otimizando hiper-parâmetros\n",
        "\n",
        "*   Utilizando o [método GridSearchCV](https://scikit-learn.org/stable/modules/generated/sklearn.model_selection.GridSearchCV.html#sklearn.model_selection.GridSearchCV)"
      ],
      "metadata": {
        "id": "p5QhTENmORsR"
      }
    },
    {
      "cell_type": "code",
      "source": [
        "RegXGB.get_params().keys()"
      ],
      "metadata": {
        "colab": {
          "base_uri": "https://localhost:8080/"
        },
        "id": "IFzu16abOR-4",
        "outputId": "9891ee37-1272-4018-9735-1de304b46e9c"
      },
      "execution_count": 38,
      "outputs": [
        {
          "output_type": "execute_result",
          "data": {
            "text/plain": [
              "dict_keys(['objective', 'base_score', 'booster', 'callbacks', 'colsample_bylevel', 'colsample_bynode', 'colsample_bytree', 'device', 'early_stopping_rounds', 'enable_categorical', 'eval_metric', 'feature_types', 'gamma', 'grow_policy', 'importance_type', 'interaction_constraints', 'learning_rate', 'max_bin', 'max_cat_threshold', 'max_cat_to_onehot', 'max_delta_step', 'max_depth', 'max_leaves', 'min_child_weight', 'missing', 'monotone_constraints', 'multi_strategy', 'n_estimators', 'n_jobs', 'num_parallel_tree', 'random_state', 'reg_alpha', 'reg_lambda', 'sampling_method', 'scale_pos_weight', 'subsample', 'tree_method', 'validate_parameters', 'verbosity'])"
            ]
          },
          "metadata": {},
          "execution_count": 38
        }
      ]
    },
    {
      "cell_type": "code",
      "source": [
        "parameters = {\n",
        "    'max_depth': [5, 6, 7],  # A profundidade máxima da árvore de decisão\n",
        "    'learning_rate': [0.1, 0.2, 0.3],  # A taxa de aprendizagem que você define e que influencia a rapidez com que o modelo converge.\n",
        "    'objective': ['reg:squarederror'], # Específica qual a task do objetivo que estamos fazendo\n",
        "    'booster': ['gbtree'], # Define o tipo do modelo\n",
        "    'n_jobs': [5], # Define o número de processos que ocorrem em paralelo\n",
        "    'gamma': [0, 1], # Valor de corte que controla a quantidade de redução da função de perda necessária para fazer uma partição dentro de uma folha do nó da árvore.\n",
        "    'min_child_weight': [1, 3], # O peso mínimo do nó filho, a soma do peso minimo do nó abaixo\n",
        "    'max_delta_step': [0, 1], # Limita a contribuição de cada árvore ao peso do modelo\n",
        "    'subsample': [0.5, 1]  # Fração de amostras de treinamento a serem usados\n",
        "}"
      ],
      "metadata": {
        "id": "sg4nQtHSPQzV"
      },
      "execution_count": 39,
      "outputs": []
    },
    {
      "cell_type": "code",
      "source": [
        "XGBGrid = GridSearchCV(XGBRegressor(), parameters, refit= 'neg_mean_squared_error', verbose=True) # Determinando o modelo com os devidos parâmetros\n",
        "\n",
        "# Refit: Métrica para avaliar o modelo\n",
        "# Verbose: Demonstra o passo a passo do que está acontecendo"
      ],
      "metadata": {
        "id": "ddACQzlaSPX8"
      },
      "execution_count": 40,
      "outputs": []
    },
    {
      "cell_type": "code",
      "source": [
        "XGBGridModel = XGBGrid.fit(X_train,y_train) # Treinando o modelo com a massa de treino"
      ],
      "metadata": {
        "colab": {
          "base_uri": "https://localhost:8080/"
        },
        "id": "EjiUlKONTxrd",
        "outputId": "1feddadc-79e2-4a32-a8a1-95bbca356151"
      },
      "execution_count": 41,
      "outputs": [
        {
          "output_type": "stream",
          "name": "stdout",
          "text": [
            "Fitting 5 folds for each of 144 candidates, totalling 720 fits\n"
          ]
        }
      ]
    },
    {
      "cell_type": "code",
      "source": [
        "XGBGridModel.best_params_"
      ],
      "metadata": {
        "colab": {
          "base_uri": "https://localhost:8080/"
        },
        "id": "ZQAF-QJsTx91",
        "outputId": "3bd8c38a-8646-445d-df18-a62fa4c3a934"
      },
      "execution_count": 43,
      "outputs": [
        {
          "output_type": "execute_result",
          "data": {
            "text/plain": [
              "{'booster': 'gbtree',\n",
              " 'gamma': 0,\n",
              " 'learning_rate': 0.2,\n",
              " 'max_delta_step': 0,\n",
              " 'max_depth': 5,\n",
              " 'min_child_weight': 1,\n",
              " 'n_jobs': 5,\n",
              " 'objective': 'reg:squarederror',\n",
              " 'subsample': 1}"
            ]
          },
          "metadata": {},
          "execution_count": 43
        }
      ]
    },
    {
      "cell_type": "code",
      "source": [
        "yGrid = XGBGridModel.predict(X_test)"
      ],
      "metadata": {
        "id": "V-3xGXv_TyGG"
      },
      "execution_count": 44,
      "outputs": []
    },
    {
      "cell_type": "code",
      "source": [
        "MSE_Grid = mean_squared_error(y_test, yGrid)  # MSE com y_test, pois foi utilizado o X_teste para fazer a predição, e o valor predito\n",
        "print(f'MSE XGB Grid: {MSE_Grid*1000:f}')\n",
        "RMSE_Grid = np.sqrt(MSE_Grid)\n",
        "print(f'RMSE XGB Grid: {RMSE_Grid*1000:f}') # Cálculo do RMSE indicando que os erros dos preços foram em média de 2.462"
      ],
      "metadata": {
        "colab": {
          "base_uri": "https://localhost:8080/"
        },
        "id": "KuIwr4iQmZmf",
        "outputId": "859b3b10-f279-4ee1-e49f-deb4abd4564c"
      },
      "execution_count": 46,
      "outputs": [
        {
          "output_type": "stream",
          "name": "stdout",
          "text": [
            "MSE XGB Grid: 6064.068680\n",
            "RMSE XGB Grid: 2462.532980\n"
          ]
        }
      ]
    }
  ]
}